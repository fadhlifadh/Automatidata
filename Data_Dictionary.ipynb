{
 "cells": [
  {
   "cell_type": "markdown",
   "id": "82c88718-1fff-4b90-93ae-08f29bed86a4",
   "metadata": {},
   "source": [
    "# Data Dictionary\n",
    "\n",
    "This project uses a dataset called 2017_Yellow_Taxi_Trip_Data.csv. It contains data gathered by the New York City Taxi & Limousine Commission. For each trip, there are many different data variables gathered. \n",
    "\n",
    "The dataset contains: \n",
    "\n",
    "**22,699 rows:** each row represents a different trip and description is as below:"
   ]
  },
  {
   "cell_type": "markdown",
   "id": "78c1f527-ca19-4d11-8382-1487c0d71e66",
   "metadata": {},
   "source": [
    "|No. | Column Name | Description |\n",
    "|----|-------------|-------------|\n",
    "|01|ID | Trip identification number. |\n",
    "|02|VendorID | **1**: Creative Mobile Technologies, LLC, **2**: VeriFone Inc.|\n",
    "|03|tpep_pickup_datetime | The date and time when the meter was engaged.  |\n",
    "|04|tpep_dropoff_datetime | The date and time when the meter was disengaged. |\n",
    "|05|Passenger_count | The number of passengers in the vehicle. This is a driver-entered value. |\n",
    "|06|Trip_distance | The elapsed trip distance in miles reported by the taximeter. |\n",
    "|07|PULocationID | TLC Taxi Zone in which the taximeter was engaged.|\n",
    "|08|DOLocationID | TLC Taxi Zone in which the taximeter was disengaged.|\n",
    "|09|RateCodeID | **1**: Standard rate, **2**: JFK, **3**: Newark, **4**: Nassau or Westchester, **5**: Negotiated fare , **6**: Group ride |\n",
    "|10|Store_and_fwd_flag | This flag indicates whether the trip record was held in vehicle memory before being sent to the vendor, aka “store and forward,” because the vehicle did not have a connection to the server. **Y** = store and forward trip, **N** = not a store and forward trip|\n",
    "|11|Payment_type | A numeric code signifying how the passenger paid for the trip.  **1**: Credit card, **2**: Cash, **3**: No change, **4**:Dispute, **5**: Unknown, **6**: Voided trip|\n",
    "|12|Fare_amount | The time-and-distance fare calculated by the meter.|\n",
    "|13|Extra|Miscellaneous extras and surcharges. Currently, this only includes the \\\\$0.50 and \\\\$1 rush hour and overnight charges.|\n",
    "|14|MTA_tax|\\\\$0.50 MTA tax that is automatically triggered based on the metered rate in use.|\n",
    "|15|Improvement_surcharge|$0.30 improvement surcharge assessed trips at the flag drop. The  improvement surcharge began being levied in 2015.|\n",
    "|16|Tip_amount |Tip amount – This field is automatically populated for credit card  tips. Cash tips are not included.|\n",
    "|17|Tolls_amount |Total amount of all tolls paid in trip. |\n",
    "|18|Total_amount |The total amount charged to passengers. Does not include cash tips.||Inc."
   ]
  },
  {
   "cell_type": "code",
   "execution_count": null,
   "id": "8c1457d5-09de-480d-91cb-7db19f93f2d8",
   "metadata": {},
   "outputs": [],
   "source": []
  }
 ],
 "metadata": {
  "kernelspec": {
   "display_name": "Python 3 (ipykernel)",
   "language": "python",
   "name": "python3"
  },
  "language_info": {
   "codemirror_mode": {
    "name": "ipython",
    "version": 3
   },
   "file_extension": ".py",
   "mimetype": "text/x-python",
   "name": "python",
   "nbconvert_exporter": "python",
   "pygments_lexer": "ipython3",
   "version": "3.8.5"
  }
 },
 "nbformat": 4,
 "nbformat_minor": 5
}
